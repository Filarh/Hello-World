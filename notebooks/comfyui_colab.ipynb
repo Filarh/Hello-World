{
  "cells": [
    {
      "cell_type": "markdown",
      "metadata": {
        "id": "aaaaaaaaaa"
      },
      "source": [
        "Git clone the repo and install the requirements. (ignore the pip errors about protobuf)"
      ]
    },
    {
      "cell_type": "code",
      "execution_count": null,
      "metadata": {
        "id": "bbbbbbbbbb",
        "cellView": "form"
      },
      "outputs": [],
      "source": [
        "#@title Environment Setup\n",
        "\n",
        "\n",
        "OPTIONS = {}\n",
        "\n",
        "USE_GOOGLE_DRIVE = False  #@param {type:\"boolean\"}\n",
        "UPDATE_COMFY_UI = True  #@param {type:\"boolean\"}\n",
        "WORKSPACE = '/content/ComfyUI'\n",
        "OPTIONS['USE_GOOGLE_DRIVE'] = USE_GOOGLE_DRIVE\n",
        "OPTIONS['UPDATE_COMFY_UI'] = UPDATE_COMFY_UI\n",
        "\n",
        "if OPTIONS['USE_GOOGLE_DRIVE']:\n",
        "    !echo \"Mounting Google Drive...\"\n",
        "    %cd /\n",
        "\n",
        "    from google.colab import drive\n",
        "    drive.mount('/content/drive')\n",
        "\n",
        "    WORKSPACE = \"/content/drive/MyDrive/ComfyUI\"\n",
        "    %cd /content/drive/MyDrive\n",
        "\n",
        "![ ! -d $WORKSPACE ] && echo -= Initial setup ComfyUI =- && git clone https://github.com/comfyanonymous/ComfyUI\n",
        "%cd $WORKSPACE\n",
        "\n",
        "if OPTIONS['UPDATE_COMFY_UI']:\n",
        "  !echo -= Updating ComfyUI =-\n",
        "  !git pull\n",
        "\n",
        "!echo -= Install dependencies =-\n",
        "!pip install xformers!=0.0.18 -r requirements.txt --extra-index-url https://download.pytorch.org/whl/cu121 --extra-index-url https://download.pytorch.org/whl/cu118 --extra-index-url https://download.pytorch.org/whl/cu117"
      ]
    },
    {
      "cell_type": "code",
      "source": [
        "#@title  Añadir soporte GGUF a ComfyUI\n",
        "%cd $WORKSPACE/custom_nodes\n",
        "!git clone https://github.com/city96/ComfyUI-GGUF.git\n",
        "%cd $WORKSPACE/custom_nodes/ComfyUI-GGUF\n",
        "!pip install -r requirements.txt\n",
        "\n"
      ],
      "metadata": {
        "id": "4F64S1Ny2REW"
      },
      "execution_count": null,
      "outputs": []
    },
    {
      "cell_type": "code",
      "source": [
        "#@title descargamos un modelo guff\n",
        "%cd $WORKSPACE/models/unet\n",
        "!wget -nc \"https://huggingface.co/city96/FLUX.1-dev-gguf/resolve/main/flux1-dev-Q3_K_S.gguf\""
      ],
      "metadata": {
        "cellView": "form",
        "id": "mzh2tJPk4zsH"
      },
      "execution_count": null,
      "outputs": []
    },
    {
      "cell_type": "code",
      "source": [
        "#@title Descarga de modelos (CLIP) requeridos para DualCLIPLoader (GGUF) con nombres correctos\n",
        "%cd $WORKSPACE\n",
        "\n",
        "!mkdir -p models/clip\n",
        "%cd models/clip\n",
        "\n",
        "# Descargar CLIP y renombrar a clip-vit-large-patch14.bin\n",
        "!wget -nc -O CLIP-GmP-ViT-L-14.safetensors \"https://huggingface.co/zer0int/CLIP-GmP-ViT-L-14/resolve/main/model.safetensors?download=true\"\n",
        "\n",
        "# Descargar T5 y renombrar a model.safetensors\n",
        "!wget -nc -O t5-v1_1-xxl-encoder-Q4_K_S.gguf \"https://huggingface.co/city96/t5-v1_1-xxl-encoder-gguf/resolve/main/t5-v1_1-xxl-encoder-Q4_K_S.gguf?download=true\"\n",
        "\n",
        "# Verifica los archivos\n",
        "!ls -lh $WORKSPACE/models/clip/\n"
      ],
      "metadata": {
        "id": "FpklzCWI5YH1"
      },
      "execution_count": null,
      "outputs": []
    },
    {
      "cell_type": "code",
      "source": [
        "#@title descargamos el vae\n",
        "%cd $WORKSPACE/models/vae\n",
        "!wget https://huggingface.co/StableDiffusionVN/Flux/resolve/main/Vae/flux_vae.safetensors"
      ],
      "metadata": {
        "id": "miem4FEv7B0y"
      },
      "execution_count": null,
      "outputs": []
    },
    {
      "cell_type": "code",
      "source": [
        "#@title opcional pero recomendad Easy Use\n",
        "#1. Clone the repo\n",
        "%cd $WORKSPACE/custom_nodes\n",
        "!git clone https://github.com/yolain/ComfyUI-Easy-Use\n",
        "#2. Install the requirements\n",
        "%cd $WORKSPACE/custom_nodes/ComfyUI-Easy-Use\n",
        "!pip install -r requirements.txt\n"
      ],
      "metadata": {
        "id": "CAdVRw8UASpr"
      },
      "execution_count": null,
      "outputs": []
    },
    {
      "cell_type": "code",
      "execution_count": null,
      "metadata": {
        "id": "jjjjjjjjjjjjjj"
      },
      "outputs": [],
      "source": [
        "#@title Run ComfyUI with cloudflared (Recommended Way)\n",
        "%cd $WORKSPACE\n",
        "!wget https://github.com/cloudflare/cloudflared/releases/latest/download/cloudflared-linux-amd64.deb\n",
        "!dpkg -i cloudflared-linux-amd64.deb\n",
        "\n",
        "import subprocess\n",
        "import threading\n",
        "import time\n",
        "import socket\n",
        "import urllib.request\n",
        "\n",
        "def iframe_thread(port):\n",
        "  while True:\n",
        "      time.sleep(0.5)\n",
        "      sock = socket.socket(socket.AF_INET, socket.SOCK_STREAM)\n",
        "      result = sock.connect_ex(('127.0.0.1', port))\n",
        "      if result == 0:\n",
        "        break\n",
        "      sock.close()\n",
        "  print(\"\\nComfyUI finished loading, trying to launch cloudflared (if it gets stuck here cloudflared is having issues)\\n\")\n",
        "\n",
        "  p = subprocess.Popen([\"cloudflared\", \"tunnel\", \"--url\", \"http://127.0.0.1:{}\".format(port)], stdout=subprocess.PIPE, stderr=subprocess.PIPE)\n",
        "  for line in p.stderr:\n",
        "    l = line.decode()\n",
        "    if \"trycloudflare.com \" in l:\n",
        "      print(\"This is the URL to access ComfyUI:\", l[l.find(\"http\"):], end='')\n",
        "    #print(l, end='')\n",
        "\n",
        "\n",
        "threading.Thread(target=iframe_thread, daemon=True, args=(8188,)).start()\n",
        "\n",
        "!python main.py --dont-print-server"
      ]
    }
  ],
  "metadata": {
    "accelerator": "GPU",
    "colab": {
      "provenance": []
    },
    "gpuClass": "standard",
    "kernelspec": {
      "display_name": "Python 3",
      "name": "python3"
    },
    "language_info": {
      "name": "python"
    }
  },
  "nbformat": 4,
  "nbformat_minor": 0
}
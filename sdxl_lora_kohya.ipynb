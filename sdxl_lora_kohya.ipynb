{
  "nbformat": 4,
  "nbformat_minor": 0,
  "metadata": {
    "colab": {
      "provenance": [],
      "include_colab_link": true
    },
    "kernelspec": {
      "name": "python3",
      "display_name": "Python 3"
    },
    "language_info": {
      "name": "python"
    }
  },
  "cells": [
    {
      "cell_type": "markdown",
      "metadata": {
        "id": "view-in-github",
        "colab_type": "text"
      },
      "source": [
        "<a href=\"https://colab.research.google.com/github/Filarh/Hello-World/blob/master/sdxl_lora_kohya.ipynb\" target=\"_parent\"><img src=\"https://colab.research.google.com/assets/colab-badge.svg\" alt=\"Open In Colab\"/></a>"
      ]
    },
    {
      "cell_type": "code",
      "execution_count": null,
      "metadata": {
        "cellView": "form",
        "id": "fuha4NTVc03B"
      },
      "outputs": [],
      "source": [
        "# @title Install Kohya my friend <3\n",
        "from google.colab import drive\n",
        "drive.mount('/content/drive')\n",
        "%cd /content\n",
        "%env TF_CPP_MIN_LOG_LEVEL=1\n",
        "\n",
        "!apt -y update -qq\n",
        "!wget https://github.com/camenduru/gperftools/releases/download/v1.0/libtcmalloc_minimal.so.4 -O /content/libtcmalloc_minimal.so.4\n",
        "%env LD_PRELOAD=/content/libtcmalloc_minimal.so.4\n",
        "\n",
        "!apt -y install -qq aria2\n",
        "!pip install -q xformers==0.0.20 triton==2.0.0 -U\n",
        "\n",
        "%cd /content\n",
        "!git clone https://github.com/bmaltais/kohya_ss\n",
        "%cd kohya_ss\n",
        "!./setup.sh"
      ]
    },
    {
      "cell_type": "code",
      "source": [
        "# @title START KOHYA WEBUI ! Boooyaa kawabanga kabummm\n",
        "!./gui.sh --share --headless"
      ],
      "metadata": {
        "cellView": "form",
        "id": "eiRVeAQHc17V"
      },
      "execution_count": null,
      "outputs": []
    },
    {
      "cell_type": "code",
      "source": [
        "# @title put the command you copied here\n",
        "!"
      ],
      "metadata": {
        "id": "JuesFMF4dxv1"
      },
      "execution_count": null,
      "outputs": []
    },
    {
      "cell_type": "code",
      "source": [
        "# @title These were the settings I used - it trained super fast\n",
        "!accelerate launch \\\n",
        "--num_cpu_threads_per_process=2 \\\n",
        "\"./sdxl_train_network.py\" \\\n",
        "--pretrained_model_name_or_path=\"/content/xxxxx/sd_xl_base_1.0.safetensors\" \\\n",
        "--train_data_dir=\"/content/drive/xxxxxx/demonslayer/results/img\" \\\n",
        "--resolution=\"1024,1024\" \\\n",
        "--output_dir=\"/content/drive/xxxxxx/demonslayer/results/model\" \\\n",
        "--network_alpha=\"1\" \\\n",
        "--save_model_as=safetensors \\\n",
        "--network_module=networks.lora \\\n",
        "--text_encoder_lr=0.0008 \\\n",
        "--unet_lr=0.0008 \\\n",
        "--network_dim=24 \\\n",
        "--output_name=\"demon-slayer\" \\\n",
        "--lr_scheduler_num_cycles=\"10\" \\\n",
        "--no_half_vae \\\n",
        "--learning_rate=\"0.0008\" \\\n",
        "--lr_scheduler=\"cosine\" \\\n",
        "--train_batch_size=\"5\" \\\n",
        "--max_train_steps=\"xxx\" \\\n",
        "--save_every_n_epochs=\"1\" \\\n",
        "--mixed_precision=\"fp16\" \\\n",
        "--save_precision=\"fp16\" \\\n",
        "--caption_extension=\".txt\" \\\n",
        "--cache_latents \\\n",
        "--cache_latents_to_disk \\\n",
        "--optimizer_type=\"Adafactor\" \\\n",
        "--optimizer_args scale_parameter=False relative_step=False warmup_init=False \\\n",
        "--max_data_loader_n_workers=\"0\" \\\n",
        "--keep_tokens=\"1\" \\\n",
        "--bucket_reso_steps=64 \\\n",
        "--min_snr_gamma=5 \\\n",
        "--xformers \\\n",
        "--full_fp16 \\\n",
        "--gradient_checkpointing \\\n",
        "--bucket_no_upscale \\\n",
        "--noise_offset=0.0357 \\\n",
        "--lowram \\\n",
        "--cache_text_encoder_outputs \\\n",
        "--network_train_unet_only \\\n",
        "--sample_sampler=euler_a \\\n",
        "--sample_prompts=\"/content/xxxxx/demonslayer/results/model/sample/prompt.txt\" \\\n",
        "--sample_every_n_steps=\"15\"\n"
      ],
      "metadata": {
        "id": "31Qy1sQ3c6D-"
      },
      "execution_count": null,
      "outputs": []
    }
  ]
}